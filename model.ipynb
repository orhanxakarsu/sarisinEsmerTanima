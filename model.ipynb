{
 "cells": [
  {
   "cell_type": "code",
   "execution_count": 16,
   "metadata": {},
   "outputs": [],
   "source": [
    "\n",
    "from keras.datasets import mnist\n",
    "from keras.models import load_model\n",
    "from keras.models import Sequential\n",
    "from keras.layers import Dense,Flatten,Dropout\n",
    "from keras.layers import Conv2D,MaxPool2D\n",
    "from keras import backend as K\n",
    "import keras\n",
    "import matplotlib.pyplot as plt\n",
    "import cv2"
   ]
  },
  {
   "cell_type": "code",
   "execution_count": 17,
   "metadata": {},
   "outputs": [],
   "source": [
    "import numpy as np\n",
    "from sklearn.model_selection import train_test_split"
   ]
  },
  {
   "cell_type": "code",
   "execution_count": 18,
   "metadata": {},
   "outputs": [],
   "source": [
    "batch_size =64\n",
    "num_classes=2\n",
    "epoch=10"
   ]
  },
  {
   "cell_type": "code",
   "execution_count": 19,
   "metadata": {},
   "outputs": [],
   "source": [
    "model =Sequential()"
   ]
  },
  {
   "cell_type": "code",
   "execution_count": 20,
   "metadata": {},
   "outputs": [],
   "source": [
    "model.add(Conv2D(96,kernel_size=(11,11),activation='relu',input_shape=(300,300,3),strides=4))\n",
    "model.add(MaxPool2D(pool_size=(2,2)))\n",
    "model.add(Conv2D(256,kernel_size=(5,5),activation='relu',strides=2))\n",
    "model.add(MaxPool2D(pool_size=(2,2)))\n",
    "model.add(Conv2D(384,kernel_size=(3,3),activation='relu'))\n",
    "model.add(MaxPool2D(pool_size=(2,2)))\n",
    "model.add(Flatten())\n",
    "model.add(Dense(128,activation='relu'))\n",
    "model.add(Dropout(0.50))\n",
    "model.add(Dense(64,activation='relu'))\n",
    "model.add(Dense(num_classes,activation='softmax'))"
   ]
  },
  {
   "cell_type": "code",
   "execution_count": 21,
   "metadata": {},
   "outputs": [],
   "source": [
    "model.compile(loss=keras.losses.categorical_crossentropy,\n",
    "             optimizer=keras.optimizers.Adadelta(),\n",
    "             metrics=['accuracy'])"
   ]
  },
  {
   "cell_type": "code",
   "execution_count": 22,
   "metadata": {},
   "outputs": [
    {
     "name": "stdout",
     "output_type": "stream",
     "text": [
      "Model: \"sequential_2\"\n",
      "_________________________________________________________________\n",
      "Layer (type)                 Output Shape              Param #   \n",
      "=================================================================\n",
      "conv2d_4 (Conv2D)            (None, 73, 73, 96)        34944     \n",
      "_________________________________________________________________\n",
      "max_pooling2d_4 (MaxPooling2 (None, 36, 36, 96)        0         \n",
      "_________________________________________________________________\n",
      "conv2d_5 (Conv2D)            (None, 16, 16, 256)       614656    \n",
      "_________________________________________________________________\n",
      "max_pooling2d_5 (MaxPooling2 (None, 8, 8, 256)         0         \n",
      "_________________________________________________________________\n",
      "conv2d_6 (Conv2D)            (None, 6, 6, 384)         885120    \n",
      "_________________________________________________________________\n",
      "max_pooling2d_6 (MaxPooling2 (None, 3, 3, 384)         0         \n",
      "_________________________________________________________________\n",
      "flatten_2 (Flatten)          (None, 3456)              0         \n",
      "_________________________________________________________________\n",
      "dense_4 (Dense)              (None, 128)               442496    \n",
      "_________________________________________________________________\n",
      "dropout_2 (Dropout)          (None, 128)               0         \n",
      "_________________________________________________________________\n",
      "dense_5 (Dense)              (None, 64)                8256      \n",
      "_________________________________________________________________\n",
      "dense_6 (Dense)              (None, 2)                 130       \n",
      "=================================================================\n",
      "Total params: 1,985,602\n",
      "Trainable params: 1,985,602\n",
      "Non-trainable params: 0\n",
      "_________________________________________________________________\n"
     ]
    }
   ],
   "source": [
    "model.summary()"
   ]
  },
  {
   "cell_type": "code",
   "execution_count": 28,
   "metadata": {},
   "outputs": [],
   "source": [
    "esmerResimler = []\n",
    "sarisinResimler = []\n",
    "esmerY=[]\n",
    "sarisinY=[]\n",
    "for i in range(1740):\n",
    "    resim1 = cv2.imread(f'esmer/{i}.jpg')\n",
    "    if np.any(resim1!=None):\n",
    "        boyutlandilirmisResim = cv2.resize(resim1,(300,300),interpolation=cv2.INTER_AREA)\n",
    "        esmerResimler.append(boyutlandilirmisResim)\n",
    "        esmerY.append([0,1])\n",
    "    resim2 = cv2.imread(f'sarisin/{i}.jpg')\n",
    "    if np.any(resim2!=None):\n",
    "        boyutlandilirmisResim = cv2.resize(resim2,(300,300),interpolation=cv2.INTER_AREA)\n",
    "        sarisinResimler.append(boyutlandilirmisResim)\n",
    "        sarisinY.append([1,0])\n",
    "    \n",
    "\n",
    "\n",
    "\n"
   ]
  },
  {
   "cell_type": "code",
   "execution_count": 29,
   "metadata": {},
   "outputs": [],
   "source": [
    "esmerResimler=np.array(esmerResimler)\n",
    "sarisinResimler=np.array(sarisinResimler)\n",
    "esmerY=np.array(esmerY)\n",
    "sarisinY=np.array(sarisinY)\n",
    "\n",
    "X=np.append(esmerResimler,sarisinResimler,axis=0)\n",
    "y=np.append(esmerY,sarisinY,axis=0)\n"
   ]
  },
  {
   "cell_type": "code",
   "execution_count": 33,
   "metadata": {},
   "outputs": [],
   "source": [
    "X_train, X_test, y_train, y_test=train_test_split(X,y,test_size=0.10,random_state=41)"
   ]
  },
  {
   "cell_type": "code",
   "execution_count": 34,
   "metadata": {},
   "outputs": [
    {
     "name": "stdout",
     "output_type": "stream",
     "text": [
      "Train on 3128 samples, validate on 348 samples\n",
      "Epoch 1/15\n",
      "3128/3128 [==============================] - 71s 23ms/step - loss: 26.5891 - accuracy: 0.5061 - val_loss: 0.7016 - val_accuracy: 0.5000\n",
      "Epoch 2/15\n",
      "3128/3128 [==============================] - 74s 24ms/step - loss: 0.7199 - accuracy: 0.5639 - val_loss: 0.6876 - val_accuracy: 0.5230\n",
      "Epoch 3/15\n",
      "3128/3128 [==============================] - 71s 23ms/step - loss: 0.6765 - accuracy: 0.5956 - val_loss: 0.7105 - val_accuracy: 0.5115\n",
      "Epoch 4/15\n",
      "3128/3128 [==============================] - 70s 22ms/step - loss: 0.6491 - accuracy: 0.6324 - val_loss: 0.6228 - val_accuracy: 0.7011\n",
      "Epoch 5/15\n",
      "3128/3128 [==============================] - 68s 22ms/step - loss: 0.6614 - accuracy: 0.6224 - val_loss: 0.6448 - val_accuracy: 0.6034\n",
      "Epoch 6/15\n",
      "3128/3128 [==============================] - 68s 22ms/step - loss: 0.7341 - accuracy: 0.6148 - val_loss: 0.6739 - val_accuracy: 0.5172\n",
      "Epoch 7/15\n",
      "3128/3128 [==============================] - 65s 21ms/step - loss: 0.6554 - accuracy: 0.6116 - val_loss: 0.6359 - val_accuracy: 0.6437\n",
      "Epoch 8/15\n",
      "3128/3128 [==============================] - 65s 21ms/step - loss: 0.6693 - accuracy: 0.6097 - val_loss: 0.6590 - val_accuracy: 0.6092\n",
      "Epoch 9/15\n",
      "3128/3128 [==============================] - 65s 21ms/step - loss: 0.6544 - accuracy: 0.6212 - val_loss: 0.8604 - val_accuracy: 0.5086\n",
      "Epoch 10/15\n",
      "3128/3128 [==============================] - 68s 22ms/step - loss: 0.7145 - accuracy: 0.6100 - val_loss: 0.7136 - val_accuracy: 0.5000\n",
      "Epoch 11/15\n",
      "3128/3128 [==============================] - 68s 22ms/step - loss: 0.6780 - accuracy: 0.5930 - val_loss: 0.6757 - val_accuracy: 0.5948\n",
      "Epoch 12/15\n",
      "3128/3128 [==============================] - 68s 22ms/step - loss: 0.6471 - accuracy: 0.6448 - val_loss: 0.6478 - val_accuracy: 0.6063\n",
      "Epoch 13/15\n",
      "3128/3128 [==============================] - 68s 22ms/step - loss: 0.6285 - accuracy: 0.6554 - val_loss: 0.6436 - val_accuracy: 0.6034\n",
      "Epoch 14/15\n",
      "3128/3128 [==============================] - 68s 22ms/step - loss: 0.6185 - accuracy: 0.6701 - val_loss: 0.6662 - val_accuracy: 0.5489\n",
      "Epoch 15/15\n",
      "3128/3128 [==============================] - 67s 21ms/step - loss: 0.6357 - accuracy: 0.6528 - val_loss: 0.6242 - val_accuracy: 0.6983\n"
     ]
    },
    {
     "data": {
      "text/plain": [
       "<keras.callbacks.callbacks.History at 0x1af8fd4a088>"
      ]
     },
     "execution_count": 34,
     "metadata": {},
     "output_type": "execute_result"
    }
   ],
   "source": [
    "model.fit(X_train,y_train,batch_size=128,epochs=15,verbose=1,validation_data=(X_test,y_test))\n"
   ]
  },
  {
   "cell_type": "code",
   "execution_count": 35,
   "metadata": {},
   "outputs": [],
   "source": [
    "model.save('tenRengi.h5')"
   ]
  },
  {
   "cell_type": "code",
   "execution_count": null,
   "metadata": {},
   "outputs": [],
   "source": []
  }
 ],
 "metadata": {
  "kernelspec": {
   "display_name": "Python 3",
   "language": "python",
   "name": "python3"
  },
  "language_info": {
   "codemirror_mode": {
    "name": "ipython",
    "version": 3
   },
   "file_extension": ".py",
   "mimetype": "text/x-python",
   "name": "python",
   "nbconvert_exporter": "python",
   "pygments_lexer": "ipython3",
   "version": "3.7.7"
  }
 },
 "nbformat": 4,
 "nbformat_minor": 4
}
